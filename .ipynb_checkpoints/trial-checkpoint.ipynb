{
 "cells": [
  {
   "cell_type": "code",
   "execution_count": 1,
   "id": "27136ccd-ac13-4101-a6f4-47d20e435383",
   "metadata": {},
   "outputs": [],
   "source": [
    "from transformers import AutoTokenizer\n",
    "from transformers import AutoModelForSequenceClassification\n",
    "from datasets import Dataset, load_dataset\n",
    "import torch\n",
    "import torch.nn as nn\n",
    "from torch.nn import functional as F\n",
    "from torch.utils.data import DataLoader\n",
    "from torch.optim import Adam, lr_scheduler\n",
    "from tqdm import tqdm\n",
    "import evaluate\n",
    "import numpy as np\n",
    "import matplotlib.pyplot as plt\n",
    "import seaborn as sns\n",
    "import os \n",
    "import random\n",
    "import pandas as pd\n",
    "from collections import Counter\n",
    "import pickle\n",
    "import joblib\n",
    "from copy import deepcopy\n",
    "\n",
    "\n",
    "sns.set_style('whitegrid')\n",
    "\n",
    "import warnings\n",
    "import sklearn.exceptions\n",
    "warnings.filterwarnings('ignore', category=DeprecationWarning)\n",
    "warnings.filterwarnings('ignore', category=UserWarning)\n",
    "warnings.filterwarnings('ignore', category=FutureWarning)\n",
    "warnings.filterwarnings(\"ignore\", category=sklearn.exceptions.UndefinedMetricWarning)\n",
    "\n",
    "violet = '#702b9d'\n",
    "RANDOM_SEED = 1002\n",
    "\n",
    "checkpoint = 'FacebookAI/xlm-roberta-base'\n",
    "batch_size = 12 \n"
   ]
  },
  {
   "cell_type": "code",
   "execution_count": 2,
   "id": "bd037a66-600d-49d9-bbed-f61308fa085c",
   "metadata": {},
   "outputs": [],
   "source": [
    "from transformers import XLMRobertaModel\n",
    "from main_soft_align_swap import *\n",
    "\n",
    "base_model = XLMRobertaModel.from_pretrained( checkpoint)\n",
    "tokenizer = AutoTokenizer.from_pretrained( checkpoint)\n",
    "Eval = namedtuple('Eval', ['predictions', 'label_ids'])\n",
    "src = 'es'\n",
    "tgt = 'de'\n",
    "\n",
    "en_train = Dataset.from_file(os.getcwd() + f'/data_{src}/{src}.train/data-00000-of-00001.arrow')\n",
    "zh_train = Dataset.from_file(os.getcwd() + f'/data_{tgt}/{tgt}.train/data-00000-of-00001.arrow')\n",
    "    \n",
    "zh_val = Dataset.from_file(os.getcwd() + f'/data_{tgt}/{tgt}.dev/data-00000-of-00001.arrow')\n",
    "para_dataset = deepcopy(en_train)\n",
    "para_dataset = para_dataset.add_column(\"target_utt\", zh_train['utt'])\n",
    "para_dataset = para_dataset.add_column(\"target_slots\", zh_train['slots_str'])\n",
    "para_dataset = para_dataset.add_column(\"target_intents\", zh_train['intent_str'])\n",
    "para_dataset = para_dataset.map(lambda x: convert_train(x, src = 'es'), batched=True)    \n",
    "\n",
    "para_dataloader = DataLoader(para_dataset, batch_size= batch_size, shuffle=True, \n",
    "                            collate_fn=CollatorMASSIVEIntentClassSlotFill_para(tokenizer=tokenizer, max_length=512))\n",
    "train_dataloader = DataLoader(en_train, batch_size= batch_size, shuffle=False, \n",
    "                            collate_fn=CollatorMASSIVEIntentClassSlotFill(tokenizer=tokenizer, max_length=512))\n",
    "eval_dataloader = DataLoader(zh_val, batch_size= batch_size, shuffle=False,\n",
    "                                collate_fn=CollatorMASSIVEIntentClassSlotFill(tokenizer=tokenizer, max_length=512))\n",
    "train_eval_dataloader = DataLoader(zh_train, batch_size= batch_size, shuffle=True,\n",
    "                                collate_fn=CollatorMASSIVEIntentClassSlotFill(tokenizer=tokenizer, max_length=512))\n",
    "vocab = tokenizer.get_vocab()\n",
    "vocab_size = len(vocab)\n",
    "\n",
    " # load mappings: should be using en mapping since order matters\n",
    "with open(os.getcwd() + f'/data_{src}/{src}.intents', 'r', encoding = 'UTF-8') as file:\n",
    "    intent_labels_map = json.load(file)\n",
    "\n",
    "with open(os.getcwd() + f'/data_{src}/{src}.slots', 'r', encoding = 'UTF-8') as file:\n",
    "    slot_labels_map = json.load(file)\n",
    "\n",
    "with open(os.getcwd() + f'/data_{tgt}/{tgt}.intents', 'r', encoding = 'UTF-8') as file:\n",
    "    zh_intent_labels_map = json.load(file)\n",
    "\n",
    "with open(os.getcwd() + f'/data_{tgt}/{tgt}.slots', 'r', encoding = 'UTF-8') as file:\n",
    "    zh_slot_labels_map =json.load(file)\n",
    "    \n",
    "\n",
    "base_model = XLMRobertaModel.from_pretrained('FacebookAI/xlm-roberta-base')\n",
    "model = MultiTaskICSL(base_model, vocab_size, num_slot_labels=56, num_intents=60)\n"
   ]
  },
  {
   "cell_type": "code",
   "execution_count": 12,
   "id": "758be2e1-6a3c-496d-8025-1961fdd00ab7",
   "metadata": {},
   "outputs": [
    {
     "name": "stderr",
     "output_type": "stream",
     "text": [
      "/share/apps/anaconda3/2024.02/lib/python3.11/site-packages/seaborn/_oldcore.py:1119: FutureWarning: use_inf_as_na option is deprecated and will be removed in a future version. Convert inf values to NaN before operating instead.\n",
      "  with pd.option_context('mode.use_inf_as_na', True):\n",
      "/share/apps/anaconda3/2024.02/lib/python3.11/site-packages/seaborn/_oldcore.py:1119: FutureWarning: use_inf_as_na option is deprecated and will be removed in a future version. Convert inf values to NaN before operating instead.\n",
      "  with pd.option_context('mode.use_inf_as_na', True):\n"
     ]
    },
    {
     "data": {
      "image/png": "[encoded data removed]",
      "text/plain": [
       "<Figure size 500x400 with 1 Axes>"
      ]
     },
     "metadata": {},
     "output_type": "display_data"
    }
   ],
   "source": [
    "import matplotlib.pyplot as plt\n",
    "import seaborn as sns \n",
    "import numpy as np\n",
    "import pandas as pd \n",
    "\n",
    "# Example data\n",
    "metrics = ['Baseline\\n en ', 'Augmented\\n en + zh']\n",
    "\n",
    "fig, ax = plt.subplots(figsize=(5, 4))\n",
    "\n",
    "# Define x positions for the line plot\n",
    "x_positions = np.arange(len(metrics))\n",
    "\n",
    "# data = pd.DataFrame({\n",
    "#     'Model': ['Baseline', 'Combined'],\n",
    "#     'Intent Accuracy': [0.55, 0.85]\n",
    "# })\n",
    "\n",
    "data = pd.DataFrame({\n",
    "    'Model': ['Baseline', 'Baseline', 'Augmented', 'Augmented'],\n",
    "    'Intent Accuracy': [0.41, 0.41, 0.42, 0.44],\n",
    "    'Experiment': ['Main','Ex. 2','Main','Ex. 2']\n",
    "})\n",
    "\n",
    "# Set the aesthetic style of the plots\n",
    "\n",
    "sns.lineplot(x='Model', y='Intent Accuracy', data=data, hue = 'Experiment', \n",
    "             marker= 'X', palette = ['#8900e6', '#b8b8b8'], lw = 1.5, markersize = 8, ax = ax)\n",
    "# Setting the x-axis labels\n",
    "ax.set_xticks(x_positions)\n",
    "ax.set_xticklabels(metrics)\n",
    "\n",
    "# Adjusting the x-axis limits to make the labels closer\n",
    "ax.set_xlim(-0.3, 1.3)  # Narrowing the x-axis limits\n",
    "# Styling\n",
    "ax.set_ylabel('Slot F1', color='#57068C', fontweight='bold')\n",
    "ax.set_ylim(0.4,0.45)\n",
    "ax.grid(True, linestyle='--', linewidth=0.5, color='#b8b8b8')\n",
    "\n",
    "# Spine colors\n",
    "ax.spines['left'].set_color('#d6d6d6')\n",
    "ax.spines['bottom'].set_color('#d6d6d6')\n",
    "ax.spines['top'].set_color('#d6d6d6')\n",
    "ax.spines['right'].set_visible(False)\n",
    "\n",
    "# Title and layout adjustments\n",
    "# plt.title('Intent Accuracy: Baseline vs Combined')\n",
    "plt.tight_layout()\n",
    "\n",
    "plt.show()\n",
    "\n",
    "fig.savefig('f1.png', bbox_inches = 'tight', dpi = 500)"
   ]
  },
  {
   "cell_type": "code",
   "execution_count": 2,
   "id": "22639b6c-7a51-48af-85f1-e562f1218807",
   "metadata": {},
   "outputs": [],
   "source": [
    "import torch \n",
    "\n",
    "x = torch.tensor([[1], [2], [3]])\n"
   ]
  },
  {
   "cell_type": "code",
   "execution_count": 3,
   "id": "393ec456-cc27-4797-899e-87862cc75f6d",
   "metadata": {},
   "outputs": [
    {
     "data": {
      "text/plain": [
       "tensor([[1],\n",
       "        [2],\n",
       "        [3]])"
      ]
     },
     "execution_count": 3,
     "metadata": {},
     "output_type": "execute_result"
    }
   ],
   "source": [
    "x.expand()"
   ]
  }
 ],
 "metadata": {
  "kernelspec": {
   "display_name": "Python 3 (ipykernel)",
   "language": "python",
   "name": "python3"
  },
  "language_info": {
   "codemirror_mode": {
    "name": "ipython",
    "version": 3
   },
   "file_extension": ".py",
   "mimetype": "text/x-python",
   "name": "python",
   "nbconvert_exporter": "python",
   "pygments_lexer": "ipython3",
   "version": "3.11.7"
  }
 },
 "nbformat": 4,
 "nbformat_minor": 5
}
